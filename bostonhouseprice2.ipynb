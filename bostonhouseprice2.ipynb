{
  "nbformat": 4,
  "nbformat_minor": 0,
  "metadata": {
    "colab": {
      "name": " bostonhouseprice2.ipynb",
      "provenance": [],
      "collapsed_sections": []
    },
    "kernelspec": {
      "name": "python3",
      "display_name": "Python 3"
    }
  },
  "cells": [
    {
      "cell_type": "code",
      "metadata": {
        "id": "4mLmuO3IOisu"
      },
      "source": [
        "#importing necessary dependencies (step 1)\r\n",
        "import pandas as pd\r\n",
        "import numpy as np\r\n",
        "from sklearn import linear_model #sklearn is a library of ml and linear is a model\r\n",
        "from sklearn.model_selection import train_test_split #(t_t_s) is a function to split the data\r\n",
        "from sklearn import metrics\r\n",
        "import matplotlib.pyplot as plt\r\n",
        "import seaborn as sns\r\n",
        "%matplotlib inline\r\n"
      ],
      "execution_count": 48,
      "outputs": []
    },
    {
      "cell_type": "code",
      "metadata": {
        "id": "egk15rzGP4R_"
      },
      "source": [
        "# (step 2) load the boston data set from sklearn.datasets\r\n",
        "from sklearn.datasets import load_boston\r\n",
        "boston = load_boston() # boston is variable and load_boston is a dictionary obj\r\n",
        "print(boston) # to our convenience we transform the data into data frame using panda libarary"
      ],
      "execution_count": null,
      "outputs": []
    },
    {
      "cell_type": "code",
      "metadata": {
        "id": "tE75lay6S3hY"
      },
      "source": [
        "# dataset to dataframe (step 3)\r\n",
        "# independent variables and dependent variables (like data we want independent x and feature names =column names of the data)\r\n",
        "# target= target variable or price of the boston house or also known as y variable\r\n",
        "df_x = pd.DataFrame(boston.data, columns = boston.feature_names)\r\n",
        "df_y = pd.DataFrame(boston.target)\r\n"
      ],
      "execution_count": 13,
      "outputs": []
    },
    {
      "cell_type": "code",
      "metadata": {
        "id": "Rg0lGxGmkDBe"
      },
      "source": [
        "\r\n",
        "#df_x.head()\r\n",
        "#df_x.shape\r\n",
        "#df_x.columns\r\n",
        "#df_y.head()\r\n",
        "#df_x.dtypes\r\n",
        "#df_x.nunique()\r\n",
        "# Check for missing values\r\n",
        "#data.isnull().sum()\r\n",
        "# See rows with missing values\r\n",
        "#data[data.isnull().any(axis=1)]"
      ],
      "execution_count": null,
      "outputs": []
    },
    {
      "cell_type": "code",
      "metadata": {
        "id": "SgK44VWwUpAe"
      },
      "source": [
        "# from our dataset we can get mean,count,max,min of each column and lot more basically like useful for boxplotting,outliers\r\n",
        "df_x.describe()"
      ],
      "execution_count": null,
      "outputs": []
    },
    {
      "cell_type": "code",
      "metadata": {
        "id": "yUQTbDG7nJwb"
      },
      "source": [
        "# Finding out the correlation between the features\r\n",
        "corr = df_x.corr()\r\n",
        "corr.shape"
      ],
      "execution_count": null,
      "outputs": []
    },
    {
      "cell_type": "code",
      "metadata": {
        "id": "ErxYu24hnfLy"
      },
      "source": [
        "# Plotting the heatmap of correlation between features\r\n",
        "plt.figure(figsize=(20,20))\r\n",
        "sns.heatmap(corr, cbar=True, square= True, fmt='.1f', annot=True, annot_kws={'size':15}, cmap='Greens')"
      ],
      "execution_count": null,
      "outputs": []
    },
    {
      "cell_type": "code",
      "metadata": {
        "id": "oIbiuDDTV9bE"
      },
      "source": [
        "# linear regression model bcz for numeric value we use this model often (step 4)\r\n",
        "regm = linear_model.LinearRegression()\r\n"
      ],
      "execution_count": 36,
      "outputs": []
    },
    {
      "cell_type": "code",
      "metadata": {
        "id": "p8nhHXG6WsTV"
      },
      "source": [
        "#training,testing,splitting of the data (step 5)\r\n",
        "x_train, x_test, y_train, y_test = train_test_split(df_x, df_y, test_size=0.3, random_state=4) #30% testing & 70% training\r\n"
      ],
      "execution_count": 37,
      "outputs": []
    },
    {
      "cell_type": "code",
      "metadata": {
        "id": "5yd40ez8oO9b"
      },
      "source": [
        "regm.fit(x_train,y_train) #training"
      ],
      "execution_count": null,
      "outputs": []
    },
    {
      "cell_type": "code",
      "metadata": {
        "id": "iKshIvU0qCca"
      },
      "source": [
        "print(regm.coef_) #coefficients of our linear reg model"
      ],
      "execution_count": null,
      "outputs": []
    },
    {
      "cell_type": "code",
      "metadata": {
        "id": "HxKGUrsGoMEU"
      },
      "source": [
        "# Value of y intercept\r\n",
        "regm.intercept_\r\n"
      ],
      "execution_count": null,
      "outputs": []
    },
    {
      "cell_type": "code",
      "metadata": {
        "id": "fbbB8CKfqFYJ"
      },
      "source": [
        "# Model prediction on train data\r\n",
        "y_pred = regm.predict(x_train)"
      ],
      "execution_count": 46,
      "outputs": []
    },
    {
      "cell_type": "code",
      "metadata": {
        "id": "Gegxc5xLqcZz"
      },
      "source": [
        "# Model Evaluation\r\n",
        "print('R^2:',metrics.r2_score(y_train, y_pred))\r\n",
        "print('Adjusted R^2:',1 - (1-metrics.r2_score(y_train, y_pred))*(len(y_train)-1)/(len(y_train)-x_train.shape[1]-1))\r\n",
        "print('MAE:',metrics.mean_absolute_error(y_train, y_pred))\r\n",
        "print('MSE:',metrics.mean_squared_error(y_train, y_pred))\r\n",
        "print('RMSE:',np.sqrt(metrics.mean_squared_error(y_train, y_pred)))"
      ],
      "execution_count": null,
      "outputs": []
    },
    {
      "cell_type": "code",
      "metadata": {
        "id": "yJp2luwfrywE"
      },
      "source": [
        "# Visualizing the differences between actual prices and predicted values\r\n",
        "plt.scatter(y_train, y_pred)\r\n",
        "plt.xlabel(\"Prices\")\r\n",
        "plt.ylabel(\"Predicted prices\")\r\n",
        "plt.title(\"Prices vs Predicted prices\")\r\n",
        "plt.show()"
      ],
      "execution_count": null,
      "outputs": []
    },
    {
      "cell_type": "code",
      "metadata": {
        "id": "THQO2t1jsAhR"
      },
      "source": [
        "# Checking residuals\r\n",
        "plt.scatter(y_pred,y_train-y_pred)\r\n",
        "plt.title(\"Predicted vs residuals\")\r\n",
        "plt.xlabel(\"Predicted\")\r\n",
        "plt.ylabel(\"Residuals\")\r\n",
        "plt.show()"
      ],
      "execution_count": null,
      "outputs": []
    },
    {
      "cell_type": "code",
      "metadata": {
        "id": "ckhjB33BsOr3"
      },
      "source": [
        "# Checking Normality of errors\r\n",
        "sns.distplot(y_train-y_pred)\r\n",
        "plt.title(\"Histogram of Residuals\")\r\n",
        "plt.xlabel(\"Residuals\")\r\n",
        "plt.ylabel(\"Frequency\")\r\n",
        "plt.show()"
      ],
      "execution_count": null,
      "outputs": []
    },
    {
      "cell_type": "code",
      "metadata": {
        "id": "yBcVKzOkqqH4"
      },
      "source": [
        "# predictions on our test data\r\n",
        "y_test_pred=regm.predict(x_test)\r\n",
        "print(y_test_pred)"
      ],
      "execution_count": null,
      "outputs": []
    },
    {
      "cell_type": "code",
      "metadata": {
        "id": "3OnSKvQhpRcy"
      },
      "source": [
        "# Model Evaluation\r\n",
        "acc_linreg = metrics.r2_score(y_test, y_test_pred)\r\n",
        "print('R^2:', acc_linreg)\r\n",
        "print('Adjusted R^2:',1 - (1-metrics.r2_score(y_test, y_test_pred))*(len(y_test)-1)/(len(y_test)-x_test.shape[1]-1))\r\n",
        "print('MAE:',metrics.mean_absolute_error(y_test, y_test_pred))\r\n",
        "print('MSE:',metrics.mean_squared_error(y_test, y_test_pred))\r\n",
        "print('RMSE:',np.sqrt(metrics.mean_squared_error(y_test, y_test_pred)))"
      ],
      "execution_count": null,
      "outputs": []
    },
    {
      "cell_type": "code",
      "metadata": {
        "id": "dUx9RbfasgMx"
      },
      "source": [
        "#printing the actual values\r\n",
        "#print(y_test)  #for 3rd row machine predicted y_pred[2]=14.45 and actual one was y_test[2]=13.6 a little close"
      ],
      "execution_count": null,
      "outputs": []
    },
    {
      "cell_type": "code",
      "metadata": {
        "id": "5zKKWB3wuQty"
      },
      "source": [
        "#checking the model performance/accuracy using mean squared error\r\n",
        "#print(np.mean(y_pred-y_test)**2)"
      ],
      "execution_count": null,
      "outputs": []
    },
    {
      "cell_type": "code",
      "metadata": {
        "id": "FfOGxmX_xSCj"
      },
      "source": [
        "# another method to check accuracy using sklearn\r\n",
        "#from sklearn.metrics import mean_squared_error\r\n",
        "#print(mean_squared_error(y_test, y_pred))"
      ],
      "execution_count": null,
      "outputs": []
    }
  ]
}